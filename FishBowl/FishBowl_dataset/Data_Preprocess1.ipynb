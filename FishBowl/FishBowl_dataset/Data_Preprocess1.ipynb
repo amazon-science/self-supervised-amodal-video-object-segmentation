{
 "cells": [
  {
   "cell_type": "code",
   "execution_count": 1,
   "id": "sticky-object",
   "metadata": {},
   "outputs": [],
   "source": [
    "import json\n",
    "import numpy as np\n",
    "import matplotlib.pyplot as plt\n",
    "import os\n",
    "import base64\n",
    "\n",
    "from functools import partial\n",
    "from collections import defaultdict\n",
    "from pycocotools import mask as mutils\n",
    "from pycocotools import _mask as coco_mask\n",
    "\n",
    "import zlib\n",
    "import matplotlib.pyplot as plt\n",
    "\n",
    "import json\n",
    "# !pip install scikit-video\n",
    "import skvideo.io  \n",
    "import pandas as pd\n",
    "from skimage import transform\n",
    "# Save dict \n",
    "import pickle\n",
    "from utils.warp import *\n",
    "from tqdm import tqdm\n",
    "\n",
    "def getFlow(flow_path, v_id, shift):\n",
    "    # \\flow_t := F_{t->(t+1)}\n",
    "    # copy \\flow_{T-1} for \\flow_T\n",
    "    flows = []\n",
    "    flows_list = os.listdir(os.path.join(flow_path, v_id))\n",
    "    flows_list.sort()\n",
    "    for sub_path in flows_list:\n",
    "        sub_flow_path = os.path.join(flow_path, v_id, sub_path)\n",
    "        f_tmp = readFlow(sub_flow_path) # Image_W Image_H 2\n",
    "        flows.append(f_tmp)\n",
    "    flows = flows + flows[-shift:]\n",
    "    assert len(flows) == 128\n",
    "    return flows\n",
    "\n",
    "\n",
    "def readFlow(fn):\n",
    "    \"\"\" Read .flo file in Middlebury format\"\"\"\n",
    "    # Code adapted from:\n",
    "    # http://stackoverflow.com/questions/28013200/reading-middlebury-flow-files-with-python-bytes-array-numpy\n",
    "\n",
    "    # WARNING: this will work on little-endian architectures (eg Intel x86) only!\n",
    "    # print 'fn = %s'%(fn)\n",
    "\n",
    "    with open(fn, 'rb') as f:\n",
    "        magic = np.fromfile(f, np.float32, count=1)\n",
    "        if 202021.25 != magic:\n",
    "            print('Magic number incorrect. Invalid .flo file')\n",
    "            return None\n",
    "        else:\n",
    "            w = np.fromfile(f, np.int32, count=1)\n",
    "            h = np.fromfile(f, np.int32, count=1)\n",
    "            # print 'Reading %d x %d flo file\\n' % (w, h)\n",
    "            data = np.fromfile(f, np.float32, count=2*int(w)*int(h))\n",
    "            # Reshape data into 3D array (columns, rows, bands)\n",
    "            # The reshape here is for visualization, the original code is (w,h,2)\n",
    "            flow = np.resize(data, (int(h), int(w), 2))\n",
    "            flow = transform.rescale(flow, (320/flow.shape[0], 480/flow.shape[1], 1), preserve_range=True)\n",
    "            return flow\n",
    "\n",
    "\n",
    "\n",
    "\n",
    "def visualize(obj_id, full_data_filted):\n",
    "    obj_dict = full_data_filted[obj_id]\n",
    "    start_t, end_t = min(obj_dict.keys()), max(obj_dict.keys())\n",
    "    to_vis = []\n",
    "    for t in range(start_t,end_t):\n",
    "        vm = decode2binarymask(obj_dict[t][\"VM\"])[0]\n",
    "        to_vis.append(vm)\n",
    "    s = 0\n",
    "    for e in range(6,len(to_vis)+6,6):\n",
    "        to_vis2 = np.concatenate(to_vis[s:e], axis=-1)\n",
    "        plt.figure(figsize=(14,10))\n",
    "        plt.imshow(to_vis2)\n",
    "        plt.show()\n",
    "        s = e\n",
    "\n",
    "def decode2binarymask(masks):\n",
    "    mask = coco_mask.decode(masks)\n",
    "    binary_masks = mask.astype('bool') # (320,480,128)\n",
    "    binary_masks = binary_masks.transpose(2,0,1)\n",
    "    return binary_masks\n",
    "\n",
    "def get_crop_coord(binary_mask):\n",
    "    x_min = np.min(np.where(binary_mask == 1)[0])\n",
    "    x_max = np.max(np.where(binary_mask == 1)[0])\n",
    "    \n",
    "    y_min = np.min(np.where(binary_mask == 1)[1])\n",
    "    y_max = np.max(np.where(binary_mask == 1)[1])\n",
    "    \n",
    "    return x_min, x_max, y_min, y_max\n",
    "\n",
    "def get_IoU(f1, f2):\n",
    "    f1 = f1.astype(np.bool)\n",
    "    f2 = f2.astype(np.bool)\n",
    "    # aligned iou\n",
    "    SMOOTH = 1e-6\n",
    "    x_max = max(f1.shape[0], f2.shape[0])\n",
    "    y_max = max(f1.shape[1], f2.shape[1])\n",
    "    \n",
    "    frame1 = np.zeros((x_max, y_max)).astype(bool)\n",
    "    frame1[:f1.shape[0],:f1.shape[1]] = f1\n",
    "    frame2 = np.zeros((x_max, y_max)).astype(bool)\n",
    "    frame2[:f2.shape[0],:f2.shape[1]] = f2\n",
    "    \n",
    "    intersection = (frame1 & frame2).sum() \n",
    "    union = (frame1 | frame2).sum() \n",
    "    iou = (intersection + SMOOTH) / (union + SMOOTH) # [bz, num_objs, 1]\n",
    "    \n",
    "    return iou\n",
    "\n",
    "# binary_mask[x_min:x_max+1, y_min:y_max+1]\n",
    "\n",
    "def get_mask_agg(visible_data):\n",
    "    all_masks = np.zeros((N, 320, 480))\n",
    "    for val in visible_data:\n",
    "        mask = decode2binarymask(val[\"masks\"])\n",
    "        all_masks += mask\n",
    "    \n",
    "    return all_masks\n",
    "\n",
    "mode = \"test\"\n",
    "data_dir = \"./data/%s_data/%s/\" % (mode, mode)\n",
    "data_objects_dir = \"./data/%s_data/%s_objects/\" % (mode, mode)\n",
    "N = 128"
   ]
  },
  {
   "cell_type": "markdown",
   "id": "reliable-bulletin",
   "metadata": {},
   "source": [
    "## 1 Deal with full mask"
   ]
  },
  {
   "cell_type": "code",
   "execution_count": null,
   "id": "varying-vertical",
   "metadata": {},
   "outputs": [
    {
     "name": "stderr",
     "output_type": "stream",
     "text": [
      "  0%|          | 32/10000 [00:53<3:01:44,  1.09s/it]"
     ]
    }
   ],
   "source": [
    "def deal_fm(start_id, end_id, mode):\n",
    "    for v_id in tqdm(range(start_id, end_id)):\n",
    "        V_ID = \"%05d\" % v_id\n",
    "        if V_ID.isdecimal(): # Sanity Check        \n",
    "            # iterate through each objects.json for one val_data\n",
    "            for obj in os.listdir(data_objects_dir):\n",
    "                if obj.startswith(V_ID + \"_object\"):  \n",
    "                    obj_dict = {}\n",
    "                    crop_coord = []\n",
    "                    obj_data = json.load(open(data_objects_dir + os.path.join(obj, \"objects.json\"),))\n",
    "                    fish_id = obj_data[0][\"id\"]\n",
    "                    OBJ_ID = str(V_ID) + \"_\" + str(fish_id)\n",
    "\n",
    "                    # full masks\n",
    "                    binary_masks = decode2binarymask(obj_data[0][\"masks\"])\n",
    "\n",
    "                    start_flag = 0\n",
    "                    for TimeStep, bm in enumerate(binary_masks):\n",
    "\n",
    "                        if np.sum(bm) <= 20 * 20:\n",
    "                            # indicator for empty patch\n",
    "                            FM_bx = None\n",
    "                            if start_flag == 1:\n",
    "                                break\n",
    "                        else: \n",
    "                            x_min, x_max, y_min, y_max = get_crop_coord(bm)\n",
    "                            if x_min < 16 or y_min < 16 or x_max > 320 - 16 or y_max > 480 - 16:\n",
    "                                FM_bx = None\n",
    "                                if start_flag == 1:\n",
    "                                    break\n",
    "                            else:\n",
    "                                start_flag = 1\n",
    "                                \n",
    "                                FM_bx = [x_min, x_max, y_min, y_max]\n",
    "\n",
    "                                to_dataframe.append([V_ID, OBJ_ID, TimeStep, FM_bx])\n",
    "\n",
    "                                obj_dict.setdefault(TimeStep, {})[\"FM_bx\"] = FM_bx\n",
    "                                obj_dict[TimeStep][\"FM\"] = coco_mask.encode(np.expand_dims(bm,-1))\n",
    "                                \n",
    "                                full_data[OBJ_ID] = obj_dict\n",
    "\n",
    "full_data = {}\n",
    "to_dataframe = []\n",
    "length = 10000 if mode == \"train\" else 1000\n",
    "deal_fm(0, length, mode)\n",
    "data_fm_summary = pd.DataFrame(to_dataframe)\n",
    "data_fm_summary.columns = [\"Video_id\", \"Obj_id\", \"Timestep\", \"FM_bx\"]"
   ]
  },
  {
   "cell_type": "code",
   "execution_count": null,
   "id": "developing-developer",
   "metadata": {
    "scrolled": false
   },
   "outputs": [],
   "source": [
    "data_fm_summary"
   ]
  },
  {
   "cell_type": "markdown",
   "id": "wrapped-honolulu",
   "metadata": {},
   "source": [
    "## 2 Deal with visible mask"
   ]
  },
  {
   "cell_type": "code",
   "execution_count": null,
   "id": "rural-conducting",
   "metadata": {},
   "outputs": [],
   "source": [
    "to_dataframe2 = []\n",
    "interrupt_count = 0\n",
    "skip_step = 4\n",
    "for V_ID in tqdm(sorted(os.listdir(data_dir))):\n",
    "    if V_ID.isdecimal(): # Sanity Check\n",
    "        visible_data = json.load(open(data_dir+ os.path.join(V_ID, 'objects.json')))\n",
    "        loss_mask_agg = get_mask_agg(visible_data)\n",
    "\n",
    "        # loop for each obj\n",
    "        for i in range(len(visible_data)):\n",
    "#             full_data[V_ID][OBJ_ID][TimeStep][\"VM\"] = visible_bms \n",
    "            \n",
    "            fish_id = visible_data[i][\"id\"]\n",
    "            OBJ_ID = str(V_ID) + \"_\" + str(fish_id)\n",
    "            if full_data.get(OBJ_ID) is None:\n",
    "                continue\n",
    "            visible_bms = decode2binarymask(visible_data[i][\"masks\"])\n",
    "            fish_type = visible_data[i][\"type_name\"]\n",
    "            \n",
    "            start_flag = 0\n",
    "            last_vm_frame = []\n",
    "\n",
    "            for TimeStep, v_bm in enumerate(visible_bms):\n",
    "                if full_data[OBJ_ID].get(TimeStep) is None:\n",
    "                    pass\n",
    "                else:\n",
    "                    if np.sum(v_bm) <= 8 * 8:\n",
    "                        if start_flag == 1:\n",
    "                            interrupt_count += 1\n",
    "                            break\n",
    "                    else:\n",
    "                        vx_min, vx_max, vy_min, vy_max = get_crop_coord(v_bm)\n",
    "                        VM_bx = [vx_min, vx_max, vy_min, vy_max]\n",
    "                        f_bm = decode2binarymask(full_data[OBJ_ID][TimeStep][\"FM\"])\n",
    "                        OCC_R = 1 - np.sum(v_bm)/np.sum(f_bm)\n",
    "                        loss_mask_weight = 1 - (loss_mask_agg[TimeStep] - v_bm)\n",
    "                        VM_crop = v_bm[vx_min:vx_max+1, vy_min:vy_max+1]\n",
    "                        if len(last_vm_frame) >= skip_step:\n",
    "                            \n",
    "                            IoU = get_IoU(last_vm_frame[-skip_step], VM_crop)\n",
    "                        else:\n",
    "                            IoU = None\n",
    "                        start_flag = 1\n",
    "                        last_vm_frame.append(VM_crop)\n",
    "                        \n",
    "                        to_dataframe2.append([V_ID, OBJ_ID, TimeStep, VM_bx, OCC_R, IoU, fish_type])\n",
    "                        \n",
    "                        full_data[OBJ_ID][TimeStep][\"VM_bx\"] = VM_bx\n",
    "                        full_data[OBJ_ID][TimeStep][\"VM\"] = coco_mask.encode(np.expand_dims(v_bm,-1))\n",
    "                        full_data[OBJ_ID][TimeStep][\"OCC_R\"] = OCC_R\n",
    "                        full_data[OBJ_ID][TimeStep][\"IoU\"] = IoU\n",
    "                        loss_mask_weight = np.asfortranarray(np.expand_dims(loss_mask_weight,-1).astype(bool))\n",
    "                        full_data[OBJ_ID][TimeStep][\"loss_mask_weight\"] = coco_mask.encode(loss_mask_weight)\n",
    "                        full_data[OBJ_ID][TimeStep][\"fish_type\"] = fish_type\n",
    "                        \n",
    "data_vm_summary = pd.DataFrame(to_dataframe2)\n",
    "data_vm_summary.columns = [\"Video_id\", \"Obj_id\", \"Timestep\", \"VM_bx\", \"OCC_R\", \"IoU\", \"Type\"]"
   ]
  },
  {
   "cell_type": "code",
   "execution_count": null,
   "id": "threaded-civilization",
   "metadata": {},
   "outputs": [],
   "source": [
    "data_summary = pd.merge(left=data_fm_summary, \n",
    "                        right=data_vm_summary, \n",
    "                        how=\"left\", \n",
    "                        on=[\"Video_id\", \"Obj_id\", \"Timestep\"])\n",
    "\n",
    "data_summary.to_csv(\"./data/%s_data/%s_data_summary.csv\" % (mode, mode))\n",
    "pickle.dump(full_data, open(\"./data/%s_data/unfilted.pkl\" % mode, \"wb\"))"
   ]
  },
  {
   "cell_type": "markdown",
   "id": "geological-twenty",
   "metadata": {},
   "source": [
    "## 3 Filter for train and valid"
   ]
  },
  {
   "cell_type": "code",
   "execution_count": 17,
   "id": "opposite-copper",
   "metadata": {},
   "outputs": [],
   "source": [
    "mode = \"train\"\n",
    "data_summary = pd.read_csv(\"./data/%s_data/%s_data_summary.csv\" % (mode, mode))\n",
    "full_data = pickle.load(open(\"./data/%s_data/unfilted.pkl\" % mode, \"rb\"))"
   ]
  },
  {
   "cell_type": "code",
   "execution_count": 18,
   "id": "narrative-difficulty",
   "metadata": {},
   "outputs": [],
   "source": [
    "data_summary = data_summary[~data_summary[\"VM_bx\"].isnull()]"
   ]
  },
  {
   "cell_type": "code",
   "execution_count": 19,
   "id": "standard-abortion",
   "metadata": {},
   "outputs": [
    {
     "name": "stdout",
     "output_type": "stream",
     "text": [
      "Video amount:  9612\n",
      "Fish amount:  50849\n",
      "Frame amount 2270811\n"
     ]
    }
   ],
   "source": [
    "print(\"Video amount: \", len(data_summary[\"Video_id\"].value_counts()))\n",
    "print(\"Fish amount: \", len(data_summary[\"Obj_id\"].value_counts()))\n",
    "print(\"Frame amount\", data_summary.shape[0])\n",
    "# print(\"%d Fishes has been fully occluded by others(and thus the observation interrupt),\"\n",
    "#       \"we just remain movement of the fish at the first time\" % interrupt_count)"
   ]
  },
  {
   "cell_type": "code",
   "execution_count": 20,
   "id": "floral-steal",
   "metadata": {},
   "outputs": [],
   "source": [
    "filter_obj_id = set(data_summary[(data_summary[\"IoU\"]<0.6)][\"Obj_id\"].values)\n",
    "\n",
    "def f(df):\n",
    "    if df[\"Obj_id\"].values[0] in filter_obj_id and df.shape[0] > 20:\n",
    "        return df\n",
    "term = data_summary.groupby([\"Obj_id\"]).apply(f)\n",
    "term = term[~term[\"Obj_id\"].isnull()]"
   ]
  },
  {
   "cell_type": "code",
   "execution_count": 21,
   "id": "textile-sheet",
   "metadata": {},
   "outputs": [
    {
     "name": "stdout",
     "output_type": "stream",
     "text": [
      "Video amount:  6098\n",
      "Fish amount:  13197\n",
      "Frame amount 827423\n"
     ]
    }
   ],
   "source": [
    "print(\"Video amount: \", len(term[\"Video_id\"].value_counts()))\n",
    "print(\"Fish amount: \", len(term[\"Obj_id\"].value_counts()))\n",
    "print(\"Frame amount\", term.shape[0])"
   ]
  },
  {
   "cell_type": "code",
   "execution_count": 22,
   "id": "filled-relief",
   "metadata": {},
   "outputs": [],
   "source": [
    "full_data_filted = {}\n",
    "obj_list = set(term[\"Obj_id\"].values)\n",
    "for obj_id in obj_list:\n",
    "    for timestep in term[term[\"Obj_id\"]==obj_id][\"Timestep\"].values:\n",
    "        timestep = int(timestep)\n",
    "        full_data_filted.setdefault(obj_id, {})[timestep] = full_data[obj_id][timestep]"
   ]
  },
  {
   "cell_type": "code",
   "execution_count": 24,
   "id": "aerial-advertising",
   "metadata": {},
   "outputs": [
    {
     "name": "stdout",
     "output_type": "stream",
     "text": [
      "dataset/data/train_data/train_data.pkl\n"
     ]
    }
   ],
   "source": [
    "pickle.dump(full_data_filted, open(\"./data/%s_data/%s_data.pkl\" % (mode, mode), \"wb\"))\n",
    "print(\"./data/%s_data/%s_data.pkl\" % (mode, mode))"
   ]
  },
  {
   "cell_type": "markdown",
   "id": "computational-review",
   "metadata": {},
   "source": [
    "## 4 Other statistics"
   ]
  },
  {
   "cell_type": "code",
   "execution_count": 4,
   "id": "civil-retreat",
   "metadata": {},
   "outputs": [],
   "source": [
    "timestep_length = []\n",
    "def add_more_stat(group_df):\n",
    "    timestep_length.append(group_df[\"Timestep\"].count())\n",
    "    group_df[\"observe_length\"] = group_df[\"Timestep\"].count()\n",
    "    group_df[\"occ_percent_th0.1\"] = (group_df[\"OCC_R\"]>0.1).mean()\n",
    "    group_df[\"occ_percent_th0.3\"] = (group_df[\"OCC_R\"]>0.3).mean()\n",
    "    group_df[\"occ_percent_th0.5\"] = (group_df[\"OCC_R\"]>0.5).mean()\n",
    "    group_df[\"occ_percent_th0.7\"] = (group_df[\"OCC_R\"]>0.7).mean()\n",
    "    group_df[\"occ_percent_th0.9\"] = (group_df[\"OCC_R\"]>0.9).mean()\n",
    "    return group_df\n",
    "\n",
    "data_summary = data_summary.groupby([\"Obj_id\"]).apply(add_more_stat)"
   ]
  },
  {
   "cell_type": "markdown",
   "id": "celtic-aspect",
   "metadata": {},
   "source": [
    "### For occlusion ratio "
   ]
  },
  {
   "cell_type": "code",
   "execution_count": 7,
   "id": "controlled-ordinary",
   "metadata": {},
   "outputs": [
    {
     "name": "stdout",
     "output_type": "stream",
     "text": [
      "the percent of frames with Occluded Ratio > 0.1 for each object\n",
      "min:0.000\t0.25-quantile:0.000\t0.5-quantile:0.000\t0.75-quantile:0.197\tmax:1.000\tmean:0.171\n"
     ]
    },
    {
     "data": {
      "image/png": "[encoded data removed]",
      "text/plain": [
       "<Figure size 432x288 with 1 Axes>"
      ]
     },
     "metadata": {
      "needs_background": "light"
     },
     "output_type": "display_data"
    },
    {
     "name": "stdout",
     "output_type": "stream",
     "text": [
      "the percent of frames with Occluded Ratio > 0.3 for each object\n",
      "min:0.000\t0.25-quantile:0.000\t0.5-quantile:0.000\t0.75-quantile:0.000\tmax:1.000\tmean:0.089\n"
     ]
    },
    {
     "data": {
      "image/png": "[encoded data removed]",
      "text/plain": [
       "<Figure size 432x288 with 1 Axes>"
      ]
     },
     "metadata": {
      "needs_background": "light"
     },
     "output_type": "display_data"
    },
    {
     "name": "stdout",
     "output_type": "stream",
     "text": [
      "the percent of frames with Occluded Ratio > 0.5 for each object\n",
      "min:0.000\t0.25-quantile:0.000\t0.5-quantile:0.000\t0.75-quantile:0.000\tmax:1.000\tmean:0.046\n"
     ]
    },
    {
     "data": {
      "image/png": "[encoded data removed]",
      "text/plain": [
       "<Figure size 432x288 with 1 Axes>"
      ]
     },
     "metadata": {
      "needs_background": "light"
     },
     "output_type": "display_data"
    },
    {
     "name": "stdout",
     "output_type": "stream",
     "text": [
      "the percent of frames with Occluded Ratio > 0.7 for each object\n",
      "min:0.000\t0.25-quantile:0.000\t0.5-quantile:0.000\t0.75-quantile:0.000\tmax:1.000\tmean:0.021\n"
     ]
    },
    {
     "data": {
      "image/png": "[encoded data removed]",
      "text/plain": [
       "<Figure size 432x288 with 1 Axes>"
      ]
     },
     "metadata": {
      "needs_background": "light"
     },
     "output_type": "display_data"
    },
    {
     "name": "stdout",
     "output_type": "stream",
     "text": [
      "the percent of frames with Occluded Ratio > 0.9 for each object\n",
      "min:0.000\t0.25-quantile:0.000\t0.5-quantile:0.000\t0.75-quantile:0.000\tmax:1.000\tmean:0.005\n"
     ]
    },
    {
     "data": {
      "image/png": "[encoded data removed]",
      "text/plain": [
       "<Figure size 432x288 with 1 Axes>"
      ]
     },
     "metadata": {
      "needs_background": "light"
     },
     "output_type": "display_data"
    }
   ],
   "source": [
    "for threshold in [1,3,5,7,9]:\n",
    "    print(\"the percent of frames with Occluded Ratio > 0.%d for each object\" % threshold)\n",
    "    lookup_chr = \"occ_percent_th0.%d\" % threshold\n",
    "    title = [\"min\", \"0.25-quantile\", \"0.5-quantile\", \"0.75-quantile\", \"max\", \"mean\"]\n",
    "    term = data_summary.groupby([\"Obj_id\"])[lookup_chr].agg([\"first\"])\n",
    "    \n",
    "    number = list(np.quantile(term.values, q=[0,0.25,0.5,0.75,1])) + [np.mean(term.values)]\n",
    "    to_print = dict(zip(title, number))\n",
    "    print(\"\\t\".join([k + \":\" + f\"{v:.3f}\" for k, v in to_print.items()]))\n",
    "    plt.hist(term.values)\n",
    "    plt.show()"
   ]
  },
  {
   "cell_type": "markdown",
   "id": "circular-craft",
   "metadata": {},
   "source": [
    "### For effective timestep"
   ]
  },
  {
   "cell_type": "code",
   "execution_count": null,
   "id": "outdoor-insulin",
   "metadata": {},
   "outputs": [],
   "source": [
    "title = [\"min\", \"0.25-quantile\", \"0.5-quantile\", \"0.75-quantile\", \"max\", \"mean\"]\n",
    "number = list(np.quantile(timestep_length, q=[0,0.25,0.5,0.75,1])) + [data_summary[lookup_chr].mean()]\n",
    "to_print = dict(zip(title, number))\n",
    "\n",
    "print(\"\\t\".join([k + \":\" + f\"{v:.3f}\" for k, v in to_print.items()]))\n",
    "x = list(range(0, 140, 10))\n",
    "y,_,__ = plt.hist(timestep_length, bins=x)\n",
    "\n",
    "for a, b in zip(x, y):\n",
    "    plt.text(int(a)+5, b, b, ha='center', va='bottom')\n",
    "    \n",
    "plt.title(\"Observation length distribution accross objects\")\n",
    "plt.show()"
   ]
  },
  {
   "cell_type": "code",
   "execution_count": null,
   "id": "resistant-england",
   "metadata": {},
   "outputs": [],
   "source": [
    "title = [\"min\", \"0.25-quantile\", \"0.5-quantile\", \"0.75-quantile\", \"max\", \"mean\"]\n",
    "number = list(np.quantile(timestep_length, q=[0,0.25,0.5,0.75,1])) + [data_summary[lookup_chr].mean()]\n",
    "to_print = dict(zip(title, number))\n",
    "\n",
    "print(\"\\t\".join([k + \":\" + f\"{v:.3f}\" for k, v in to_print.items()]))\n",
    "x = list(range(0, 140, 10))\n",
    "y,_,__ = plt.hist(timestep_length, bins=x)\n",
    "\n",
    "for a, b in zip(x, y):\n",
    "    plt.text(int(a)+5, b, b, ha='center', va='bottom')\n",
    "    \n",
    "plt.title(\"Observation length distribution accross objects\")\n",
    "plt.show()"
   ]
  },
  {
   "cell_type": "markdown",
   "id": "demanding-snapshot",
   "metadata": {},
   "source": [
    "### For IoU statistics"
   ]
  },
  {
   "cell_type": "code",
   "execution_count": null,
   "id": "double-custom",
   "metadata": {},
   "outputs": [],
   "source": [
    "title = [\"min\", \"0.25-quantile\", \"0.5-quantile\", \"0.75-quantile\", \"max\", \"mean\"]\n",
    "number = list(np.quantile(data_summary[\"IoU\"][~data_summary[\"IoU\"].isnull()], q=[0,0.25,0.5,0.75,1])) + [data_summary[lookup_chr].mean()]\n",
    "to_print = dict(zip(title, number))\n",
    "\n",
    "print(\"\\t\".join([k + \":\" + f\"{v:.3f}\" for k, v in to_print.items()]))\n",
    "x = list(np.arange(0, 1, 0.1))\n",
    "y,_,__ = plt.hist(data_summary[\"IoU\"][~data_summary[\"IoU\"].isnull()], bins=x)\n",
    "\n",
    "for a, b in zip(x, y):\n",
    "    plt.text(a+0.05, b, int(np.round(b,2)), ha='center', va='bottom')\n",
    "    \n",
    "plt.title(\"IoU distribution accross objects\")\n",
    "plt.show()"
   ]
  },
  {
   "cell_type": "code",
   "execution_count": null,
   "id": "broken-situation",
   "metadata": {},
   "outputs": [],
   "source": [
    "import pickle as pkl\n",
    "pkl.dump(full_data, open(mode+\"_data.pkl\", \"wb\"))\n"
   ]
  },
  {
   "cell_type": "code",
   "execution_count": null,
   "id": "shared-shower",
   "metadata": {},
   "outputs": [],
   "source": [
    "# v_id, timestep, obj_id, obj_occratio, obj_length, VM_crop, FM_crop, FM, VM, patch"
   ]
  },
  {
   "cell_type": "markdown",
   "id": "exposed-finding",
   "metadata": {},
   "source": [
    "## 5 Subset for test"
   ]
  },
  {
   "cell_type": "code",
   "execution_count": 82,
   "id": "vocal-chapter",
   "metadata": {},
   "outputs": [],
   "source": [
    "mode = \"test\"\n",
    "data_summary = pd.read_csv(\"./data/%s_data/%s_data_summary.csv\" % (mode, mode))\n",
    "full_data = pickle.load(open(\"./data/%s_data/unfilted.pkl\" % mode, \"rb\"))"
   ]
  },
  {
   "cell_type": "code",
   "execution_count": 84,
   "id": "adjacent-thesaurus",
   "metadata": {},
   "outputs": [],
   "source": [
    "filter_obj_id = set(data_summary[(data_summary[\"OCC_R\"]>0.1)&(data_summary[\"OCC_R\"]<0.7)][\"Obj_id\"].values)\n",
    "def f(df):\n",
    "    if df[\"Obj_id\"].values[0] in filter_obj_id and df.shape[0] > 10:\n",
    "        return df\n",
    "data_summary = data_summary.groupby([\"Obj_id\"]).apply(f)\n",
    "data_summary = data_summary[~data_summary[\"VM_bx\"].isnull()]"
   ]
  },
  {
   "cell_type": "code",
   "execution_count": 85,
   "id": "three-convert",
   "metadata": {},
   "outputs": [],
   "source": [
    "full_data_filted = {}\n",
    "obj_list = set(data_summary[\"Obj_id\"].values)\n",
    "for obj_id in obj_list:\n",
    "    for timestep in data_summary[data_summary[\"Obj_id\"]==obj_id][\"Timestep\"].values:\n",
    "        timestep = int(timestep)\n",
    "        full_data_filted.setdefault(obj_id, {})[timestep] = full_data[obj_id][timestep]   \n",
    "pickle.dump(full_data_filted, open(\"./data/test_data/test_data.pkl\", \"wb\"))"
   ]
  },
  {
   "cell_type": "code",
   "execution_count": 86,
   "id": "duplicate-receiver",
   "metadata": {},
   "outputs": [
    {
     "data": {
      "text/plain": [
       "1521"
      ]
     },
     "execution_count": 86,
     "metadata": {},
     "output_type": "execute_result"
    }
   ],
   "source": [
    "data_summary[\"test\"] = 1\n",
    "len(full_data_filted.keys())"
   ]
  },
  {
   "cell_type": "markdown",
   "id": "liberal-carter",
   "metadata": {},
   "source": [
    "### test1\n",
    "\n",
    "Full box > 1.5X Visible box. Checking on cases the amodal mask and visible mask won’t be at the same scale;"
   ]
  },
  {
   "cell_type": "code",
   "execution_count": 87,
   "id": "everyday-japanese",
   "metadata": {},
   "outputs": [],
   "source": [
    "term = []\n",
    "term2 = []\n",
    "for i in range(data_summary.shape[0]):\n",
    "    x1, x2, y1, y2 = eval(data_summary[\"FM_bx\"].values[i])\n",
    "    v_x1, v_x2, v_y1, v_y2 = eval(data_summary[\"VM_bx\"].values[i])\n",
    "    if ((v_x2 - v_x1) * 1.5 < x2 - x1) or ((v_y2 - v_y1) * 1.5 < y2 - y1):\n",
    "        term.append(1)\n",
    "    else:\n",
    "        term.append(0)\n",
    "data_summary[\"FM>1.5VM\"] = term\n",
    "data_summary[\"test1\"] = data_summary[\"FM>1.5VM\"]"
   ]
  },
  {
   "cell_type": "markdown",
   "id": "conservative-ownership",
   "metadata": {},
   "source": [
    "### test2\n",
    "\n",
    "Aligned on full mask, checking the occlusion mask, if there’re some parts that have always been occluded, the completion must be learning object priors or category information. top 10% **(only 99 fishes after filted, take all of them in test2)**"
   ]
  },
  {
   "cell_type": "code",
   "execution_count": 88,
   "id": "accompanied-salem",
   "metadata": {
    "scrolled": true
   },
   "outputs": [
    {
     "name": "stderr",
     "output_type": "stream",
     "text": [
      "100%|██████████| 1521/1521 [01:33<00:00, 16.19it/s]\n"
     ]
    }
   ],
   "source": [
    "def fm_rescale(masks):     \n",
    "    for i, m in enumerate(masks):\n",
    "        h, w = masks[i].shape[:2]\n",
    "        m = transform.rescale(m, (64/h, 128/w),preserve_range=True)\n",
    "        cur_h, cur_w = m.shape[:2]\n",
    "        to_pad = ((0, max(64-cur_h, 0)), (0, max(128-cur_w, 0)))\n",
    "        m = np.pad(m, to_pad)[:64,:128]\n",
    "        masks[i] = m\n",
    "    return masks\n",
    "\n",
    "test2_info = {}\n",
    "for obj_id, obj_dict in tqdm(full_data_filted.items()):\n",
    "    oc_patches = []\n",
    "    for t, val in obj_dict.items():\n",
    "        x1, x2, y1, y2 = val[\"FM_bx\"]\n",
    "        fm = decode2binarymask(val[\"FM\"])[0][x1:x2+1,y1:y2+1].astype(np.int)\n",
    "        vm = decode2binarymask(val[\"VM\"])[0][x1:x2+1,y1:y2+1].astype(np.int)\n",
    "        oc_patches.append(np.maximum(fm-vm,0).astype(np.bool))\n",
    "    oc_patches = fm_rescale(oc_patches)\n",
    "    test2_info[obj_id] = np.all((np.array(oc_patches)),axis=0).sum()"
   ]
  },
  {
   "cell_type": "code",
   "execution_count": 89,
   "id": "duplicate-mandate",
   "metadata": {},
   "outputs": [
    {
     "data": {
      "text/plain": [
       "388"
      ]
     },
     "execution_count": 89,
     "metadata": {},
     "output_type": "execute_result"
    }
   ],
   "source": [
    "def test2_apply_func(df):\n",
    "    obj_id = df[\"Obj_id\"].values[0]\n",
    "    df[\"aggregated_occ\"] = test2_info[obj_id]\n",
    "    if test2_info[obj_id] > 5:\n",
    "        df[\"test2\"] = 1\n",
    "    else:\n",
    "        df[\"test2\"] = 0\n",
    "    return df\n",
    "data_summary = data_summary.groupby([\"Obj_id\"]).apply(test2_apply_func)\n",
    "len(set(data_summary[data_summary[\"aggregated_occ\"]>0][\"Obj_id\"].values))"
   ]
  },
  {
   "cell_type": "markdown",
   "id": "final-venice",
   "metadata": {},
   "source": [
    "### test 3\n",
    "\n",
    "Aligned on full mask, mean IOU between frames are low. These are the cases when the temporal network should work well. top 10%"
   ]
  },
  {
   "cell_type": "code",
   "execution_count": 90,
   "id": "practical-cabinet",
   "metadata": {},
   "outputs": [
    {
     "name": "stderr",
     "output_type": "stream",
     "text": [
      "100%|██████████| 1521/1521 [01:15<00:00, 20.13it/s]\n"
     ]
    }
   ],
   "source": [
    "test3_info = {}\n",
    "for obj_id, obj_dict in tqdm(full_data_filted.items()):\n",
    "    vm_patches = []\n",
    "    for t, val in obj_dict.items():\n",
    "        x1, x2, y1, y2 = val[\"FM_bx\"]\n",
    "        vm = decode2binarymask(val[\"VM\"])[0][x1:x2+1,y1:y2+1]\n",
    "        vm_patches.append(vm.astype(np.bool))\n",
    "    vm_patches = fm_rescale(vm_patches)\n",
    "    obj_iou = []\n",
    "    for i in range(len(vm_patches)-1):\n",
    "        obj_iou.append(get_IoU(vm_patches[i], vm_patches[i+1]))\n",
    "    obj_iou.append(obj_iou[-1])\n",
    "    test3_info[obj_id] = obj_iou"
   ]
  },
  {
   "cell_type": "code",
   "execution_count": 91,
   "id": "naked-society",
   "metadata": {},
   "outputs": [],
   "source": [
    "def test3_apply_func(df):\n",
    "    obj_id = df[\"Obj_id\"].values[0]\n",
    "    df[\"iou_align_on_fm\"] = test3_info[obj_id]\n",
    "    \n",
    "    if (df[\"OCC_R\"]<0.5).sum() > 0:\n",
    "        th = np.quantile(df[df[\"OCC_R\"]<0.5][\"iou_align_on_fm\"].values, min(5/df.shape[0], 1))\n",
    "        df[\"mean_iou\"] = th\n",
    "        df[\"mean_iou_index\"] = ((df[\"iou_align_on_fm\"].values <= th)&(df[\"OCC_R\"]<0.5)).astype(bool)\n",
    "    else:\n",
    "        df[\"mean_iou\"] = 1\n",
    "        df[\"mean_iou_index\"] = False\n",
    "#     print(df[\"mean_iou_index\"].values.sum())\n",
    "    return df\n",
    "data_summary = data_summary.groupby([\"Obj_id\"]).apply(test3_apply_func)\n",
    "data_summary[\"test3\"] = (data_summary[\"OCC_R\"]<0.5) & (data_summary[\"mean_iou_index\"])"
   ]
  },
  {
   "cell_type": "code",
   "execution_count": 92,
   "id": "brown-dominant",
   "metadata": {},
   "outputs": [],
   "source": [
    "th = np.quantile(data_summary.groupby([\"Obj_id\"])[\"mean_iou\"].agg(\"first\").values, 0.2)\n",
    "filter_obj_id_3 = set(data_summary[data_summary[\"iou_align_on_fm\"] < th][\"Obj_id\"].values)\n",
    "\n",
    "def test3_apply_func2(df):\n",
    "    obj_id = df[\"Obj_id\"].values[0]\n",
    "    if not obj_id in filter_obj_id_3:\n",
    "        df[\"test3\"] = 0\n",
    "    return df\n",
    "\n",
    "data_summary = data_summary.groupby([\"Obj_id\"]).apply(test3_apply_func2)"
   ]
  },
  {
   "cell_type": "markdown",
   "id": "pacific-ideal",
   "metadata": {},
   "source": [
    "### test 4\n",
    "\n",
    "Object with large motion. Mean flow values on the visible part are large."
   ]
  },
  {
   "cell_type": "code",
   "execution_count": 93,
   "id": "abstract-vietnamese",
   "metadata": {},
   "outputs": [
    {
     "name": "stderr",
     "output_type": "stream",
     "text": [
      "  0%|          | 0/1521 [00:00<?, ?it/s]/home/ubuntu/anaconda3/envs/pytorch_latest_p37/lib/python3.7/site-packages/torch/nn/functional.py:3829: UserWarning: Default grid_sample and affine_grid behavior has changed to align_corners=False since 1.3.0. Please specify align_corners=True if the old behavior is desired. See the documentation of grid_sample for details.\n",
      "  \"Default grid_sample and affine_grid behavior has changed \"\n",
      "100%|██████████| 1521/1521 [16:42<00:00,  1.52it/s]\n"
     ]
    }
   ],
   "source": [
    "flows_dict = {}\n",
    "test4_info = {}\n",
    "flow_path = \"./data/test_data/test_flow/inference/run.epoch-0-flow-field\"\n",
    "for obj_id, obj_dict in tqdm(full_data_filted.items()):\n",
    "    \n",
    "    if not obj_id.split(\"_\")[0] in flows_dict:\n",
    "        flows = getFlow(flow_path, obj_id.split(\"_\")[0], 1)\n",
    "        flows_dict[obj_id.split(\"_\")[0]] = flows\n",
    "    warp_align_iou = []\n",
    "    timesteps = sorted(list(obj_dict.keys()))\n",
    "    for tt in range(timesteps[0], timesteps[-1]):\n",
    "        vm = decode2binarymask(obj_dict[tt][\"VM\"])[0]\n",
    "        vm_next = decode2binarymask(obj_dict[tt+1][\"VM\"])[0]\n",
    "        flow = flows_dict[obj_id.split(\"_\")[0]][tt]\n",
    "        flow_tmp = torch.tensor(np.expand_dims(flow.transpose(2,0,1),0))\n",
    "        vm_tmp = torch.tensor(np.expand_dims(vm, axis=(0,1)), dtype=torch.float32)\n",
    "        vm_warped = warp(flow_tmp, vm_tmp)\n",
    "        warp_align_iou.append(get_IoU(vm_warped[0][0].detach().numpy(), vm_next))\n",
    "\n",
    "    warp_align_iou.append(warp_align_iou[-1])\n",
    "    test4_info[obj_id] = warp_align_iou"
   ]
  },
  {
   "cell_type": "code",
   "execution_count": 94,
   "id": "integral-minute",
   "metadata": {},
   "outputs": [],
   "source": [
    "def test4_apply_func(df):\n",
    "    obj_id = df[\"Obj_id\"].values[0]\n",
    "    df[\"warp_align_iou\"] = test4_info[obj_id]\n",
    "    return df\n",
    "\n",
    "data_summary = data_summary.groupby([\"Obj_id\"]).apply(test4_apply_func)\n",
    "test4_th = np.quantile(data_summary[data_summary[\"OCC_R\"]<0.5][\"warp_align_iou\"].values, 0.1)\n",
    "data_summary[\"test4\"] = (data_summary[\"warp_align_iou\"] < test4_th) & (data_summary[\"OCC_R\"]<0.5)"
   ]
  },
  {
   "cell_type": "markdown",
   "id": "artistic-happiness",
   "metadata": {},
   "source": [
    "## save test subset csv"
   ]
  },
  {
   "cell_type": "code",
   "execution_count": 95,
   "id": "broadband-support",
   "metadata": {},
   "outputs": [],
   "source": [
    "data_summary = data_summary.rename(columns={'Video_id': 'v_id', \"Obj_id\":\"obj_id\", \"Timestep\":\"frame_id\"})\n",
    "data_summary[\"v_id\"] = data_summary[\"v_id\"].astype(np.int)\n",
    "data_summary[\"frame_id\"] = data_summary[\"frame_id\"].astype(np.int)\n",
    "new_obj_id = []\n",
    "for val in data_summary[\"obj_id\"].values:\n",
    "    new_obj_id.append(int(val.split(\"_\")[-1]))\n",
    "data_summary[\"obj_id\"] = new_obj_id\n",
    "\n",
    "def func(df):\n",
    "    return df.iloc[1:-1]\n",
    "\n",
    "data_summary = data_summary.groupby([\"v_id\", \"obj_id\"],as_index=False).apply(func)"
   ]
  },
  {
   "cell_type": "code",
   "execution_count": 96,
   "id": "interior-cologne",
   "metadata": {},
   "outputs": [],
   "source": [
    "data_summary.to_csv(\"test_subtest.csv\")"
   ]
  },
  {
   "cell_type": "code",
   "execution_count": 97,
   "id": "removed-break",
   "metadata": {},
   "outputs": [
    {
     "data": {
      "text/plain": [
       "Unnamed: 0                                              9066388554.0\n",
       "v_id                                                        41664824\n",
       "obj_id                                                       1617129\n",
       "frame_id                                                     5231897\n",
       "FM_bx              [177, 228, 25, 155][176, 227, 30, 157][176, 22...\n",
       "VM_bx              [177, 228, 25, 150][176, 227, 30, 153][176, 22...\n",
       "OCC_R                                                   14839.436776\n",
       "IoU                                                     58605.205125\n",
       "Type               MediumFishBMediumFishBMediumFishBMediumFishBMe...\n",
       "test                                                           82368\n",
       "FM>1.5VM                                                        4557\n",
       "test1                                                           4557\n",
       "aggregated_occ                                               4440123\n",
       "test2                                                          14511\n",
       "iou_align_on_fm                                         72594.152042\n",
       "mean_iou                                                68860.289231\n",
       "mean_iou_index                                                  6387\n",
       "test3                                                           3594\n",
       "warp_align_iou                                          68330.857583\n",
       "test4                                                           7186\n",
       "dtype: object"
      ]
     },
     "execution_count": 97,
     "metadata": {},
     "output_type": "execute_result"
    }
   ],
   "source": [
    "data_summary.sum()"
   ]
  },
  {
   "cell_type": "code",
   "execution_count": null,
   "id": "minor-healing",
   "metadata": {},
   "outputs": [],
   "source": []
  }
 ],
 "metadata": {
  "kernelspec": {
   "display_name": "Environment (conda_pytorch_latest_p37)",
   "language": "python",
   "name": "conda_pytorch_latest_p37"
  },
  "language_info": {
   "codemirror_mode": {
    "name": "ipython",
    "version": 3
   },
   "file_extension": ".py",
   "mimetype": "text/x-python",
   "name": "python",
   "nbconvert_exporter": "python",
   "pygments_lexer": "ipython3",
   "version": "3.7.10"
  }
 },
 "nbformat": 4,
 "nbformat_minor": 5
}
